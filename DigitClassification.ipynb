{
 "cells": [
  {
   "cell_type": "code",
   "execution_count": 1,
   "id": "0808bb54-bb5b-4c23-98d3-0bfa6a7fa373",
   "metadata": {},
   "outputs": [],
   "source": [
    "import numpy as np\n",
    "import matplotlib.pyplot as plt\n",
    "import pandas as pd\n",
    "from scipy.special import logsumexp\n"
   ]
  },
  {
   "cell_type": "code",
   "execution_count": 2,
   "id": "d5325875-a32f-49a7-9117-52feba742a33",
   "metadata": {},
   "outputs": [],
   "source": [
    "mnist_data = pd.read_csv(\"train.csv\")"
   ]
  },
  {
   "cell_type": "code",
   "execution_count": 3,
   "id": "0119a6bf-1250-4976-909d-2fc34bb9403c",
   "metadata": {},
   "outputs": [],
   "source": [
    "y = mnist_data.label\n",
    "X = mnist_data.drop(columns=['label'])\n",
    "X /= 255 #normalization\n",
    "np.random.seed(0)"
   ]
  },
  {
   "cell_type": "code",
   "execution_count": 4,
   "id": "32e05df5",
   "metadata": {},
   "outputs": [],
   "source": [
    "m, n = X.shape"
   ]
  },
  {
   "cell_type": "code",
   "execution_count": 12,
   "id": "8cc02aca-a45c-4005-9ea5-e88a2dc842d5",
   "metadata": {},
   "outputs": [],
   "source": [
    "class NeuralNetwork:\n",
    "    def __init__(self, m, n):\n",
    "        self.input_size = n\n",
    "        self.output_size = 10\n",
    "        self.hidden_size = 10\n",
    "        \n",
    "        self.w1 = np.random.rand(self.input_size, self.hidden_size)  # weights and biases for hidden layer\n",
    "        self.b1 = np.random.rand(1, self.hidden_size)\n",
    "\n",
    "        self.w2 = np.random.rand(self.hidden_size, self.output_size)  # weigths and biases for output layer\n",
    "        self.b2 = np.random.rand(1, self.output_size)\n",
    "\n",
    "        self.z1 = None    # z1: output of hidden layer\n",
    "        self.z2 = None    # z2: output of output layer\n",
    "\n",
    "    def relu(self, Z):             # activation function for hidden layer\n",
    "        return np.maximum(0, Z)\n",
    "\n",
    "    def softmax(self, Z):          # activation function for output layer\n",
    "        lse = logsumexp(Z, axis=1, keepdims=True)\n",
    "        return np.exp(Z - lse)\n",
    "\n",
    "\n",
    "    # application of forward propagation\n",
    "    def forward(self, X):                     \n",
    "        self.z1 = np.dot(X, self.w1) + self.b1\n",
    "        self.a1 = self.relu(self.z1)                    # a1: activated output of hidden layer\n",
    "        self.z2 = np.dot(self.a1, self.w2) + self.b2\n",
    "        self.a2 = self.softmax(self.z2)                 # a2: activated output of output layer\n",
    "\n",
    "        self.prediction = self.a2\n",
    "        return self.prediction\n",
    "        \n",
    "\n",
    "    # application of backward propagation\n",
    "    def backward(self, X, y, lr):\n",
    "        m = X.shape[0] \n",
    "    \n",
    "        # Gradient of loss wrt output pre-activation z2\n",
    "        dz2 = self.a2 - y  # shape: (m, output_size)\n",
    "    \n",
    "        # Gradients for weights and biases in output layer\n",
    "        dw2 = np.dot(self.a1.T, dz2)/m  # (hidden_size, output_size)\n",
    "        db2 = np.sum(dz2, axis=0, keepdims=True)/m  # (1, output_size)\n",
    "    \n",
    "        # Backproppagation through second layer to hidden activations\n",
    "        da1 = np.dot(dz2, self.w2.T)  # (m, hidden_size)\n",
    "    \n",
    "        # Backprop through ReLU\n",
    "        dz1 = da1 * (self.z1 > 0)  # (m, hidden_size)\n",
    "    \n",
    "        # Gradients for weights and biases in first layer\n",
    "        dw1 = np.dot(X.T, dz1)/m  # (input_size, hidden_size)\n",
    "        db1 = np.sum(dz1, axis=0, keepdims=True)/m  # (1, hidden_size)\n",
    "    \n",
    "       \n",
    "        self.w2 -= lr*dw2\n",
    "        self.b2 -= lr*db2\n",
    "        self.w1 -= lr*dw1\n",
    "        self.b1 -= lr*db1\n",
    "\n",
    "\n",
    "        "
   ]
  },
  {
   "cell_type": "code",
   "execution_count": 13,
   "id": "32639de1-5c04-49f7-8b23-ad2be2899b39",
   "metadata": {},
   "outputs": [],
   "source": [
    "\n",
    "def one_hot_batch(labels, num_classes=10):\n",
    "    m = labels.shape[0]\n",
    "    one_hot = np.zeros((m, num_classes))\n",
    "    one_hot[np.arange(m), labels] = 1\n",
    "    return one_hot\n",
    "\n",
    "\n",
    "X = np.array(X)\n",
    "y = np.array(y)\n",
    "\n",
    "\n",
    "nn = NeuralNetwork(m=X.shape[0], n=X.shape[1])\n",
    "\n",
    "# Training loop\n",
    "epochs = 100\n",
    "batch_size = 64\n",
    "learning_rate = 0.05\n",
    "\n",
    "for epoch in range(epochs):\n",
    "    # Shuffle data\n",
    "    indices = np.arange(X.shape[0])\n",
    "    np.random.shuffle(indices)\n",
    "    X = X[indices]\n",
    "    y = y[indices]\n",
    "\n",
    "    # Mini-batch gradient descent\n",
    "    for i in range(0, X.shape[0], batch_size):\n",
    "        X_batch = X[i:i+batch_size]\n",
    "        y_batch = y[i:i+batch_size]\n",
    "        y_batch_oh = one_hot_batch(y_batch)\n",
    "\n",
    "        \n",
    "        nn.forward(X_batch)\n",
    "        nn.backward(X_batch, y_batch_oh, learning_rate)\n"
   ]
  },
  {
   "cell_type": "code",
   "execution_count": 14,
   "id": "aac0d417-8774-47a0-875f-812a7d7a91a2",
   "metadata": {},
   "outputs": [
    {
     "data": {
      "image/png": "[encoded data removed]",
      "text/plain": [
       "<Figure size 640x480 with 1 Axes>"
      ]
     },
     "metadata": {},
     "output_type": "display_data"
    }
   ],
   "source": [
    "import pandas as pd\n",
    "import matplotlib.pyplot as plt\n",
    "\n",
    "\n",
    "test_df = pd.read_csv('test.csv')  \n",
    "X_test = test_df.to_numpy()\n",
    "\n",
    "# Select a random sample from test set\n",
    "random_index = np.random.randint(0, X_test.shape[0])\n",
    "sample = X_test[random_index].reshape(1, -1)  \n",
    "\n",
    "# Predict using the trained model\n",
    "prediction = nn.forward(sample)\n",
    "predicted_digit = np.argmax(prediction)\n",
    "\n",
    "# Display the image\n",
    "plt.imshow(sample.reshape(28, 28), cmap='gray')\n",
    "plt.title(f\"Predicted Digit: {predicted_digit}\")\n",
    "plt.axis('off')\n",
    "plt.show()\n"
   ]
  }
 ],
 "metadata": {
  "kernelspec": {
   "display_name": "Python 3 (ipykernel)",
   "language": "python",
   "name": "python3"
  },
  "language_info": {
   "codemirror_mode": {
    "name": "ipython",
    "version": 3
   },
   "file_extension": ".py",
   "mimetype": "text/x-python",
   "name": "python",
   "nbconvert_exporter": "python",
   "pygments_lexer": "ipython3",
   "version": "3.13.1"
  }
 },
 "nbformat": 4,
 "nbformat_minor": 5
}
